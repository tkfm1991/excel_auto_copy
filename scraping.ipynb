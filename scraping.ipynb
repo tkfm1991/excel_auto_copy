{
 "cells": [
  {
   "cell_type": "markdown",
   "metadata": {},
   "source": [
    "## スクレイピング"
   ]
  },
  {
   "cell_type": "code",
   "execution_count": 2,
   "metadata": {},
   "outputs": [
    {
     "name": "stdout",
     "output_type": "stream",
     "text": [
      "Requirement already satisfied: requests in /root/anaconda3/lib/python3.7/site-packages (2.21.0)\n",
      "Requirement already satisfied: urllib3<1.25,>=1.21.1 in /root/anaconda3/lib/python3.7/site-packages (from requests) (1.24.1)\n",
      "Requirement already satisfied: chardet<3.1.0,>=3.0.2 in /root/anaconda3/lib/python3.7/site-packages (from requests) (3.0.4)\n",
      "Requirement already satisfied: certifi>=2017.4.17 in /root/anaconda3/lib/python3.7/site-packages (from requests) (2019.3.9)\n",
      "Requirement already satisfied: idna<2.9,>=2.5 in /root/anaconda3/lib/python3.7/site-packages (from requests) (2.8)\n",
      "\u001b[31mERROR: Could not find a version that satisfies the requirement os\u001b[0m\n",
      "\u001b[31mERROR: No matching distribution found for os\u001b[0m\n",
      "\u001b[31mERROR: Could not find a version that satisfies the requirement platform\u001b[0m\n",
      "\u001b[31mERROR: No matching distribution found for platform\u001b[0m\n"
     ]
    }
   ],
   "source": [
    "!pip install requests\n",
    "!pip install os\n",
    "!pip install platform"
   ]
  },
  {
   "cell_type": "code",
   "execution_count": 18,
   "metadata": {},
   "outputs": [],
   "source": [
    "import requests\n",
    "import os\n",
    "import platform\n",
    "import time"
   ]
  },
  {
   "cell_type": "code",
   "execution_count": 7,
   "metadata": {},
   "outputs": [
    {
     "name": "stdout",
     "output_type": "stream",
     "text": [
      "2021/02/06 06:30:03\n"
     ]
    }
   ],
   "source": [
    "url = 'https://api.aoikujira.com/time/get.php'\n",
    "result = requests.get(url)\n",
    "print(result.text)"
   ]
  },
  {
   "cell_type": "markdown",
   "metadata": {},
   "source": [
    "### アクセス確認、ステータスコード確認"
   ]
  },
  {
   "cell_type": "code",
   "execution_count": 9,
   "metadata": {},
   "outputs": [
    {
     "name": "stdout",
     "output_type": "stream",
     "text": [
      "ok= True\n",
      "text= 2021/02/06 06:32:24\n",
      "status_code= 200\n"
     ]
    }
   ],
   "source": [
    "url = 'https://api.aoikujira.com/time/get.php'\n",
    "result = requests.get(url)\n",
    "print('ok=', result.ok)\n",
    "\n",
    "if result.ok:\n",
    "    print('text=', result.text)\n",
    "    print('status_code=', result.status_code)"
   ]
  },
  {
   "cell_type": "markdown",
   "metadata": {},
   "source": [
    "### 画像ファイルのDL"
   ]
  },
  {
   "cell_type": "code",
   "execution_count": 15,
   "metadata": {},
   "outputs": [
    {
     "name": "stdout",
     "output_type": "stream",
     "text": [
      "ok.\n"
     ]
    }
   ],
   "source": [
    "url = 'https://uta.pw/shodou/img/3/3.png'\n",
    "res = requests.get(url)\n",
    "\n",
    "if not res.ok:\n",
    "    print('失敗:', res.status_code)\n",
    "    quit()\n",
    "    \n",
    "with open('image/gyudon.png', 'wb') as fp:\n",
    "    fp.write(res.content)\n",
    "print('ok.')"
   ]
  },
  {
   "cell_type": "markdown",
   "metadata": {},
   "source": [
    "### 複数の画像ファイルのDL"
   ]
  },
  {
   "cell_type": "code",
   "execution_count": 19,
   "metadata": {},
   "outputs": [
    {
     "name": "stdout",
     "output_type": "stream",
     "text": [
      "save: ./image/1.png\n",
      "save: ./image/2.png\n",
      "save: ./image/3.png\n",
      "save: ./image/4.png\n",
      "save: ./image/5.png\n",
      "save: ./image/6.png\n",
      "save: ./image/7.png\n",
      "save: ./image/8.png\n",
      "save: ./image/9.png\n",
      "save: ./image/10.png\n"
     ]
    }
   ],
   "source": [
    "save_dir = './image'\n",
    "base_url = 'https://uta.pw/shodou/img/{0}/{1}.png'\n",
    "\n",
    "def download_all():\n",
    "    if not os.path.exists(save_dir):\n",
    "        os.mkdir(save_dir)\n",
    "    for id in range(1, 11):\n",
    "        download_file(id)\n",
    "        time.sleep(1)\n",
    "\n",
    "\n",
    "def download_file(id):\n",
    "    url = base_url.format(id%31, id)\n",
    "    save_file = save_dir + '/' + str(id) + '.png'\n",
    "    res = requests.get(url)\n",
    "    if not res.ok:\n",
    "        print('失敗:', res.status_code)\n",
    "        return\n",
    "    \n",
    "    with open(save_file, 'wb') as fp:\n",
    "        fp.write(res.content)\n",
    "    print('save:', save_file)\n",
    "    \n",
    "\n",
    "if __name__ == '__main__':\n",
    "    download_all()"
   ]
  },
  {
   "cell_type": "markdown",
   "metadata": {},
   "source": [
    "### Requests の使い方まとめ"
   ]
  },
  {
   "cell_type": "code",
   "execution_count": 21,
   "metadata": {},
   "outputs": [
    {
     "name": "stdout",
     "output_type": "stream",
     "text": [
      "<Response [200]>\n",
      "2021/02/06 06:59:47\n",
      "b'2021/02/06 06:59:47'\n"
     ]
    }
   ],
   "source": [
    "URL = 'https://api.aoikujira.com/time/get.php'\n",
    "res = requests.get(URL)\n",
    "res = requests.get(URL, params={'par1': 'val1', 'par2': 'val2'})\n",
    "\n",
    "print(res)\n",
    "print(res.text)\n",
    "print(res.content)"
   ]
  },
  {
   "cell_type": "code",
   "execution_count": 6,
   "metadata": {},
   "outputs": [],
   "source": [
    "save_file = os.path.expanduser('天気.txt')\n",
    "api_url = 'https://api.aoikujira.com/tenki/week.php?fmt=ini&city=319'\n",
    "tenki = requests.get(api_url).text\n",
    "\n",
    "with open(save_file, 'wt', encoding='utf-8') as f:\n",
    "    f.write(tenki)"
   ]
  },
  {
   "cell_type": "code",
   "execution_count": null,
   "metadata": {},
   "outputs": [],
   "source": []
  }
 ],
 "metadata": {
  "kernelspec": {
   "display_name": "Python 3",
   "language": "python",
   "name": "python3"
  },
  "language_info": {
   "codemirror_mode": {
    "name": "ipython",
    "version": 3
   },
   "file_extension": ".py",
   "mimetype": "text/x-python",
   "name": "python",
   "nbconvert_exporter": "python",
   "pygments_lexer": "ipython3",
   "version": "3.7.3"
  }
 },
 "nbformat": 4,
 "nbformat_minor": 2
}
